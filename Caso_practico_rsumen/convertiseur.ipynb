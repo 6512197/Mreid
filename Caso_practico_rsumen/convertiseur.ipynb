{
 "cells": [
  {
   "cell_type": "code",
   "execution_count": 15,
   "metadata": {},
   "outputs": [
    {
     "data": {
      "text/plain": [
       "{'meta': {'last_updated_at': '2024-07-16T23:59:59Z'},\n",
       " 'data': {'EUR': {'code': 'EUR', 'value': 0.9174001734}}}"
      ]
     },
     "execution_count": 15,
     "metadata": {},
     "output_type": "execute_result"
    }
   ],
   "source": [
    "#consultacion of eur today \n",
    "import requests\n",
    "import json\n",
    "\n",
    "# He usado de CurrencyAPI if you are lame you use my apikey:/ \n",

    "api_key = 'cur_live_Qo8Lci4JcZKygD156XtPYLinj1A9YS0y411uCV4E'\n",
    "\n",
    "# URL de la API con la clave de API\n",
    "url = f'https://api.currencyapi.com/v3/historical?apikey=cur_live_Qo8Lci4JcZKygD156XtPYLinj1A9YS0y411uCV4E&currencies=EUR&date=2024-07-16'\n",
    "\n",
    "#  la solicitud a la API\n",
    "response = requests.get(url)\n",
    "data = response.json()\n",
    "data"
   ]
  },
  {
   "cell_type": "code",
   "execution_count": null,
   "metadata": {},
   "outputs": [],
   "source": [
    "#  optionl im just trying to refresh my memoery with json files .u can directly use  here data .to_csv  thank you \n",
    "eur = json.dumps (data)\n",
    "eur"
   ]
  },
  {
   "cell_type": "code",
   "execution_count": null,
   "metadata": {},
   "outputs": [],
   "source": [
    "import csv\n",
    "# Parsear el  JSON string into an  dictionary\n",
    "data = json.loads(eur)\n",
    "last_updated_at = data['meta']['last_updated_at']\n",
    "currency_data = data['data']['EUR']\n",
    "\n",
    "csv_data = [\n",
    "    ['last_updated_at', 'currency_code', 'currency_value'],\n",
    "    [last_updated_at, currency_data['code'], currency_data['value']]\n",
    "]\n",
    "\n",
    "csv_file_path = 'currency_data.csv'\n",
    "with open(csv_file_path, mode='w', newline='') as file:\n",
    "    writer = csv.writer(file)\n",
    "    writer.writerows(csv_data)\n",
    "\n",
    "print(f\"Data successfully written to {csv_file_path}\")"
   ]
  },
  {
   "cell_type": "code",
   "execution_count": 24,
   "metadata": {},
   "outputs": [
    {
     "name": "stdout",
     "output_type": "stream",
     "text": [
      "Historical Exchange Rates: {2010: 0.77303, 2011: 0.70676, 2012: 0.81538, 2013: 0.76155, 2014: 0.73935, 2015: 0.91922, 2016: 0.90606, 2017: 0.87121, 2018: 0.85371, 2019: 0.89192, 2020: 0.87792, 2021: 0.84711}\n"
     ]
    }
   ],
   "source": [
    "\n",
    "\n",
    "# Your CurrencyAPI key\n",
    "api_key = 'cur_live_Qo8Lci4JcZKygD156XtPYLinj1A9YS0y411uCV4E'\n",
    "\n",
    "# Base URL for the CurrencyAPI\n",
    "base_url = 'https://api.currencyapi.com/v3/historical'\n",
    "\n",
    "# Fetch historical exchange rates for each year from 2010 to 2021\n",
    "exchange_rates = {}\n",
    "for year in range(2010, 2022):\n",
    "    date = f'{year}-07-16'\n",
    "    url = f'{base_url}?apikey={api_key}&currencies=EUR&date={date}'\n",
    "    \n",
    "    # Make the API request\n",
    "    response = requests.get(url)\n",
    "    data = response.json()\n",
    "    \n",
    "    # Extract the exchange rate\n",
    "    if 'data' in data and 'EUR' in data['data']:\n",
    "        exchange_rates[year] = data['data']['EUR']['value']\n",
    "    else:\n",
    "        print(f\"Exchange rate for {date} not found.\")\n",
    "\n",
    "print(\"Historical Exchange Rates:\", exchange_rates)\n"
   ]
  },
  {
   "cell_type": "code",
   "execution_count": 28,
   "metadata": {},
   "outputs": [
    {
     "name": "stdout",
     "output_type": "stream",
     "text": [
      "Exchange rates successfully written to exchange_rates.csv\n"
     ]
    }
   ],
   "source": [
    "import csv\n",
    "exchange_rates_path = 'exchange_rates.csv'\n",
    "\n",
    "# Write exchange rates to a CSV file\n",
    "with open(exchange_rates_path, mode='w', newline='') as file:\n",
    "    writer = csv.writer(file)\n",
    "    writer.writerow(['year', 'exchange_rate'])\n",
    "    for year, rate in exchange_rates.items():\n",
    "        writer.writerow([year, rate])\n",
    "\n",
    "print(f\"Exchange rates successfully written to {exchange_rates_path}\")"
   ]
  },
  {
   "cell_type": "code",
   "execution_count": 1,
   "metadata": {},
   "outputs": [
    {
     "name": "stdout",
     "output_type": "stream",
     "text": [
      "Requirement already satisfied: requests in c:\\users\\1thea\\appdata\\local\\programs\\python\\python310\\lib\\site-packages (2.31.0)\n",
      "Requirement already satisfied: charset-normalizer<4,>=2 in c:\\users\\1thea\\appdata\\local\\programs\\python\\python310\\lib\\site-packages (from requests) (3.3.2)\n",
      "Requirement already satisfied: idna<4,>=2.5 in c:\\users\\1thea\\appdata\\local\\programs\\python\\python310\\lib\\site-packages (from requests) (3.6)\n",
      "Requirement already satisfied: urllib3<3,>=1.21.1 in c:\\users\\1thea\\appdata\\local\\programs\\python\\python310\\lib\\site-packages (from requests) (2.1.0)\n",
      "Requirement already satisfied: certifi>=2017.4.17 in c:\\users\\1thea\\appdata\\local\\programs\\python\\python310\\lib\\site-packages (from requests) (2023.11.17)\n",
      "Note: you may need to restart the kernel to use updated packages.\n"
     ]
    },
    {
     "name": "stderr",
     "output_type": "stream",
     "text": [
      "WARNING: Error parsing requirements for jupyter-core: [Errno 2] No such file or directory: 'c:\\\\users\\\\1thea\\\\appdata\\\\roaming\\\\python\\\\python310\\\\site-packages\\\\jupyter_core-4.11.1.dist-info\\\\METADATA'\n",
      "\n",
      "[notice] A new release of pip is available: 23.3.1 -> 24.1.2\n",
      "[notice] To update, run: python.exe -m pip install --upgrade pip\n"
     ]
    }
   ],
   "source": [
    "pip install requests\n"
   ]
  },
  {
   "cell_type": "code",
   "execution_count": 2,
   "metadata": {},
   "outputs": [
    {
     "name": "stdout",
     "output_type": "stream",
     "text": [
      "Collecting mysql-connector-python\n",
      "  Downloading mysql_connector_python-9.0.0-cp310-cp310-win_amd64.whl.metadata (2.0 kB)\n",
      "Downloading mysql_connector_python-9.0.0-cp310-cp310-win_amd64.whl (14.3 MB)\n",
      "   ---------------------------------------- 0.0/14.3 MB ? eta -:--:--\n",
      "    --------------------------------------- 0.3/14.3 MB 5.7 MB/s eta 0:00:03\n",
      "   ---- ----------------------------------- 1.6/14.3 MB 17.4 MB/s eta 0:00:01\n",
      "   --------- ------------------------------ 3.4/14.3 MB 24.2 MB/s eta 0:00:01\n",
      "   -------------- ------------------------- 5.2/14.3 MB 27.7 MB/s eta 0:00:01\n",
      "   ------------------- -------------------- 6.9/14.3 MB 29.5 MB/s eta 0:00:01\n",
      "   ----------------------- ---------------- 8.4/14.3 MB 31.4 MB/s eta 0:00:01\n",
      "   -------------------------- ------------- 9.6/14.3 MB 29.3 MB/s eta 0:00:01\n",
      "   ------------------------------- -------- 11.4/14.3 MB 34.4 MB/s eta 0:00:01\n",
      "   ------------------------------------ --- 13.1/14.3 MB 36.4 MB/s eta 0:00:01\n",
      "   ---------------------------------------  14.3/14.3 MB 34.4 MB/s eta 0:00:01\n",
      "   ---------------------------------------- 14.3/14.3 MB 32.7 MB/s eta 0:00:00\n",
      "Installing collected packages: mysql-connector-python\n",
      "Successfully installed mysql-connector-python-9.0.0\n",
      "Note: you may need to restart the kernel to use updated packages.\n"
     ]
    },
    {
     "name": "stderr",
     "output_type": "stream",
     "text": [
      "WARNING: Error parsing requirements for jupyter-core: [Errno 2] No such file or directory: 'c:\\\\users\\\\1thea\\\\appdata\\\\roaming\\\\python\\\\python310\\\\site-packages\\\\jupyter_core-4.11.1.dist-info\\\\METADATA'\n",
      "\n",
      "[notice] A new release of pip is available: 23.3.1 -> 24.1.2\n",
      "[notice] To update, run: python.exe -m pip install --upgrade pip\n"
     ]
    }
   ],
   "source": [
    "pip install mysql-connector-python\n"
   ]
  },
  {
   "cell_type": "markdown",
   "metadata": {},
   "source": [
    "let us connect to Mysql from python and get mreid "
   ]
  },
  {
   "cell_type": "code",
   "execution_count": null,
   "metadata": {},
   "outputs": [],
   "source": [
    "import mysql.connector\n",
    "from datetime import datetime\n",
    "\n",
    "# Configuración de la conexión a MySQL\n",
    "conn = mysql.connector.connect(\n",
    "    host='localhost',\n",
    "    user='root',\n",
    "    password='********', # for privacy donT use the same credentials \n",
    "    database='curso',\n",
    "    port= '5432'  #30366 most popular for Mysql mine is manually configured \n",
    ")\n",
    "cursor = conn.cursor()"
   ]
  }
 ],
 "metadata": {
  "kernelspec": {
   "display_name": "Python 3",
   "language": "python",
   "name": "python3"
  },
  "language_info": {
   "codemirror_mode": {
    "name": "ipython",
    "version": 3
   },
   "file_extension": ".py",
   "mimetype": "text/x-python",
   "name": "python",
   "nbconvert_exporter": "python",
   "pygments_lexer": "ipython3",
   "version": "3.10.0"
  }
 },
 "nbformat": 4,
 "nbformat_minor": 2
}
